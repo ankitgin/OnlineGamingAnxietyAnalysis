{
  "nbformat": 4,
  "nbformat_minor": 0,
  "metadata": {
    "colab": {
      "name": "Shared_Analysis.ipynb",
      "provenance": [],
      "collapsed_sections": [],
      "toc_visible": true,
      "authorship_tag": "ABX9TyMQEOe5EalD/wbftCcGz+mt",
      "include_colab_link": true
    },
    "kernelspec": {
      "name": "python3",
      "display_name": "Python 3"
    },
    "language_info": {
      "name": "python"
    }
  },
  "cells": [
    {
      "cell_type": "markdown",
      "metadata": {
        "id": "view-in-github",
        "colab_type": "text"
      },
      "source": [
        "<a href=\"https://colab.research.google.com/github/ankitgin/OnlineGamingAnxietyAnalysis/blob/main/Shared_Analysis.ipynb\" target=\"_parent\"><img src=\"https://colab.research.google.com/assets/colab-badge.svg\" alt=\"Open In Colab\"/></a>"
      ]
    },
    {
      "cell_type": "code",
      "metadata": {
        "id": "7gzeq319lCah"
      },
      "source": [
        "url = 'https://drive.google.com/file/d/1k9_KmJ5TeaIrGPIi8Dg6liN2Lv00AcwX/view?usp=sharing'\n"
      ],
      "execution_count": null,
      "outputs": []
    }
  ]
}