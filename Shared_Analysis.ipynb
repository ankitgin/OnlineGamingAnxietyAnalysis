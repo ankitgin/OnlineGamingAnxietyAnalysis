{
  "nbformat": 4,
  "nbformat_minor": 0,
  "metadata": {
    "colab": {
      "name": "Shared_Analysis.ipynb",
      "provenance": [],
      "collapsed_sections": [],
      "include_colab_link": true
    },
    "kernelspec": {
      "name": "python3",
      "display_name": "Python 3"
    },
    "language_info": {
      "name": "python"
    }
  },
  "cells": [
    {
      "cell_type": "markdown",
      "metadata": {
        "id": "view-in-github",
        "colab_type": "text"
      },
      "source": [
        "<a href=\"https://colab.research.google.com/github/ankitgin/OnlineGamingAnxietyAnalysis/blob/main/Shared_Analysis.ipynb\" target=\"_parent\"><img src=\"https://colab.research.google.com/assets/colab-badge.svg\" alt=\"Open In Colab\"/></a>"
      ]
    },
    {
      "cell_type": "code",
      "metadata": {
        "id": "7gzeq319lCah"
      },
      "source": [
        "url = 'https://github.com/ankitgin/OnlineGamingAnxietyAnalysis/blob/main/dataset/GamingStudy_data.csv'\n"
      ],
      "execution_count": null,
      "outputs": []
    },
    {
      "cell_type": "code",
      "metadata": {
        "id": "Gz9msJfeni3R"
      },
      "source": [
        "# First load the dataset\n",
        "import pandas as pd\n",
        "import numpy as np\n",
        "import urllib3"
      ],
      "execution_count": null,
      "outputs": []
    },
    {
      "cell_type": "code",
      "metadata": {
        "colab": {
          "base_uri": "https://localhost:8080/"
        },
        "id": "1k7Vq-rsrGyL",
        "outputId": "812c6d54-389a-4754-9c5b-83128619591c"
      },
      "source": [
        "!curl --remote-name \\\n",
        "     -H 'Accept: application/vnd.github.v3.raw' \\\n",
        "     --location https://github.com/ankitgin/OnlineGamingAnxietyAnalysis/blob/main/dataset/GamingStudy_data.csv"
      ],
      "execution_count": 22,
      "outputs": [
        {
          "output_type": "stream",
          "name": "stdout",
          "text": [
            "  % Total    % Received % Xferd  Average Speed   Time    Time     Time  Current\n",
            "                                 Dload  Upload   Total   Spent    Left  Speed\n",
            "100  137k    0  137k    0     0   331k      0 --:--:-- --:--:-- --:--:--  330k\n"
          ]
        }
      ]
    },
    {
      "cell_type": "code",
      "metadata": {
        "id": "RT0DmDNTnZBy",
        "colab": {
          "base_uri": "https://localhost:8080/"
        },
        "outputId": "80e76fc6-b995-47a2-b5e7-37dce9a56843"
      },
      "source": [
        "\n",
        "# movie_rating_df = pd.read_csv('http://people.tamu.edu/~sumedhpendurkar/movie_rated.csv')\n",
        "df = pd.read_csv(url,error_bad_lines=False)"
      ],
      "execution_count": null,
      "outputs": [
        {
          "output_type": "stream",
          "name": "stderr",
          "text": [
            "b'Skipping line 120: expected 1 fields, saw 2\\nSkipping line 139: expected 1 fields, saw 355\\nSkipping line 140: expected 1 fields, saw 2\\nSkipping line 155: expected 1 fields, saw 2\\nSkipping line 208: expected 1 fields, saw 3\\nSkipping line 222: expected 1 fields, saw 6\\nSkipping line 259: expected 1 fields, saw 4\\nSkipping line 263: expected 1 fields, saw 2\\nSkipping line 280: expected 1 fields, saw 2\\nSkipping line 281: expected 1 fields, saw 2\\nSkipping line 287: expected 1 fields, saw 2\\nSkipping line 290: expected 1 fields, saw 2\\nSkipping line 298: expected 1 fields, saw 4\\nSkipping line 304: expected 1 fields, saw 2\\nSkipping line 309: expected 1 fields, saw 2\\nSkipping line 310: expected 1 fields, saw 2\\nSkipping line 311: expected 1 fields, saw 2\\nSkipping line 312: expected 1 fields, saw 2\\nSkipping line 313: expected 1 fields, saw 2\\nSkipping line 319: expected 1 fields, saw 2\\nSkipping line 320: expected 1 fields, saw 2\\nSkipping line 321: expected 1 fields, saw 2\\nSkipping line 322: expected 1 fields, saw 2\\nSkipping line 329: expected 1 fields, saw 2\\nSkipping line 337: expected 1 fields, saw 4\\nSkipping line 342: expected 1 fields, saw 2\\nSkipping line 345: expected 1 fields, saw 2\\nSkipping line 346: expected 1 fields, saw 2\\nSkipping line 350: expected 1 fields, saw 2\\nSkipping line 371: expected 1 fields, saw 2\\nSkipping line 570: expected 1 fields, saw 6\\nSkipping line 571: expected 1 fields, saw 3\\nSkipping line 578: expected 1 fields, saw 6\\nSkipping line 579: expected 1 fields, saw 8\\nSkipping line 667: expected 1 fields, saw 6\\nSkipping line 682: expected 1 fields, saw 6\\nSkipping line 701: expected 1 fields, saw 6\\nSkipping line 739: expected 1 fields, saw 3\\nSkipping line 751: expected 1 fields, saw 3\\nSkipping line 763: expected 1 fields, saw 3\\nSkipping line 775: expected 1 fields, saw 3\\nSkipping line 787: expected 1 fields, saw 3\\nSkipping line 799: expected 1 fields, saw 3\\nSkipping line 811: expected 1 fields, saw 3\\nSkipping line 822: expected 1 fields, saw 3\\nSkipping line 1077: expected 1 fields, saw 7\\nSkipping line 1163: expected 1 fields, saw 2\\nSkipping line 1166: expected 1 fields, saw 2\\nSkipping line 1193: expected 1 fields, saw 2\\nSkipping line 1195: expected 1 fields, saw 2\\nSkipping line 1216: expected 1 fields, saw 2\\nSkipping line 1256: expected 1 fields, saw 2\\nSkipping line 1257: expected 1 fields, saw 8\\nSkipping line 1258: expected 1 fields, saw 8\\nSkipping line 1259: expected 1 fields, saw 8\\nSkipping line 1260: expected 1 fields, saw 8\\nSkipping line 1261: expected 1 fields, saw 3\\nSkipping line 1270: expected 1 fields, saw 8\\nSkipping line 1271: expected 1 fields, saw 8\\nSkipping line 1272: expected 1 fields, saw 8\\nSkipping line 1273: expected 1 fields, saw 8\\nSkipping line 1274: expected 1 fields, saw 8\\nSkipping line 1275: expected 1 fields, saw 3\\n'\n"
          ]
        }
      ]
    },
    {
      "cell_type": "code",
      "metadata": {
        "colab": {
          "base_uri": "https://localhost:8080/",
          "height": 202
        },
        "id": "86VyEOs_nxzi",
        "outputId": "f96be059-9e73-45be-b7e5-a3bcbaaef3c0"
      },
      "source": [
        "df.head()"
      ],
      "execution_count": null,
      "outputs": [
        {
          "output_type": "execute_result",
          "data": {
            "text/html": [
              "<div>\n",
              "<style scoped>\n",
              "    .dataframe tbody tr th:only-of-type {\n",
              "        vertical-align: middle;\n",
              "    }\n",
              "\n",
              "    .dataframe tbody tr th {\n",
              "        vertical-align: top;\n",
              "    }\n",
              "\n",
              "    .dataframe thead th {\n",
              "        text-align: right;\n",
              "    }\n",
              "</style>\n",
              "<table border=\"1\" class=\"dataframe\">\n",
              "  <thead>\n",
              "    <tr style=\"text-align: right;\">\n",
              "      <th></th>\n",
              "      <th>&lt;!DOCTYPE html&gt;</th>\n",
              "    </tr>\n",
              "  </thead>\n",
              "  <tbody>\n",
              "    <tr>\n",
              "      <th>0</th>\n",
              "      <td>&lt;html lang=\"en\" data-color-mode=\"auto\" data-li...</td>\n",
              "    </tr>\n",
              "    <tr>\n",
              "      <th>1</th>\n",
              "      <td>&lt;head&gt;</td>\n",
              "    </tr>\n",
              "    <tr>\n",
              "      <th>2</th>\n",
              "      <td>&lt;meta charset=\"utf-8\"&gt;</td>\n",
              "    </tr>\n",
              "    <tr>\n",
              "      <th>3</th>\n",
              "      <td>&lt;link rel=\"dns-prefetch\" href=\"https://githu...</td>\n",
              "    </tr>\n",
              "    <tr>\n",
              "      <th>4</th>\n",
              "      <td>&lt;link rel=\"dns-prefetch\" href=\"https://avata...</td>\n",
              "    </tr>\n",
              "  </tbody>\n",
              "</table>\n",
              "</div>"
            ],
            "text/plain": [
              "                                     <!DOCTYPE html>\n",
              "0  <html lang=\"en\" data-color-mode=\"auto\" data-li...\n",
              "1                                             <head>\n",
              "2                             <meta charset=\"utf-8\">\n",
              "3    <link rel=\"dns-prefetch\" href=\"https://githu...\n",
              "4    <link rel=\"dns-prefetch\" href=\"https://avata..."
            ]
          },
          "metadata": {},
          "execution_count": 11
        }
      ]
    }
  ]
}